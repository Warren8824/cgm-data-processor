{
 "cells": [
  {
   "cell_type": "markdown",
   "id": "dd97948c-84b0-49f5-a1f1-a633da5dab84",
   "metadata": {},
   "source": [
    "# CGM Data Quality Analysis Tutorial\n",
    "## Using cgm-data-processor with XDrip+ Backups\n",
    "\n",
    "This notebook demonstrates a practical workflow for processing Continuous Glucose Monitoring (CGM) data using the cgm-data-processor tool. We'll walk through loading data from an XDrip+ SQLite backup, performing quality assessments, and exporting the processed data in a standardized format suitable for further analysis.\n",
    "\n",
    "### Overview\n",
    "\n",
    "The cgm-data-processor tool simplifies the process of working with CGM data by handling common preprocessing tasks and standardizing the output format. This example focuses on three key aspects:\n",
    "\n",
    "1. Data Loading: Extracting CGM measurements, carbohydrate records, and insulin data from an XDrip+ SQLite backup\n",
    "2. Quality Assessment: Evaluating data completeness, identifying gaps, and assessing measurement reliability\n",
    "3. Standardized Export: Saving the processed data in a consistent CSV format that facilitates further analysis\n",
    "\n",
    "### Prerequisites\n",
    "\n",
    "Before running this notebook, ensure you have:\n",
    "- The cgm-data-processor package installed\n",
    "- An XDrip+ SQLite backup file\n",
    "- Basic familiarity with Python and pandas\n",
    "\n",
    "### Expected Output\n",
    "\n",
    "The processed dataset will include:\n",
    "- Glucose measurements aligned to 5-minute intervals\n",
    "- Values in both mg/dL and mmol/L units\n",
    "- Validated carbohydrate and insulin records\n",
    "- Quality metrics for each time period\n",
    "- Clearly marked data gaps and interpolated values\n",
    "\n",
    "### Data Quality Considerations\n",
    "\n",
    "Throughout this tutorial, we'll examine several key quality metrics:\n",
    "- Measurement frequency and consistency\n",
    "- Gap duration and distribution\n",
    "- Sensor reliability indicators\n",
    "- Record completeness for insulin and carbohydrate data\n",
    "\n",
    "This quality assessment helps ensure that subsequent analyses are based on reliable data and that any limitations are well understood.\n",
    "\n",
    "### Next Steps\n",
    "\n",
    "After completing this tutorial, you'll have a standardized dataset ready for various analyses such as:\n",
    "- Glucose variability assessment\n",
    "- Meal response patterns\n",
    "- Insulin sensitivity calculations\n",
    "- Time-in-range analysis\n",
    "\n",
    "Let's begin by importing the necessary libraries and setting up our environment."
   ]
  },
  {
   "cell_type": "code",
   "execution_count": 1,
   "id": "fa8e8cf4-d96c-4743-8f1a-bd93e3f3ebec",
   "metadata": {},
   "outputs": [
    {
     "data": {
      "text/html": [
       "<style>.container { width:95% !important; }</style>"
      ],
      "text/plain": [
       "<IPython.core.display.HTML object>"
      ]
     },
     "metadata": {},
     "output_type": "display_data"
    }
   ],
   "source": [
    "import pandas as pd\n",
    "import numpy as np\n",
    "import matplotlib.pyplot as plt\n",
    "from IPython.display import display, HTML, Image\n",
    "display(HTML(\"<style>.container { width:95% !important; }</style>\")) # Make Jupyter cells wider for better visuals\n",
    "import pprint"
   ]
  },
  {
   "cell_type": "markdown",
   "id": "36caf1d7-33b7-4a37-88fc-acfe3e54b69d",
   "metadata": {},
   "source": []
  },
  {
   "cell_type": "code",
   "execution_count": 4,
   "id": "4f1737cc-8ef3-4b86-b1d0-813115c7512a",
   "metadata": {},
   "outputs": [],
   "source": [
    "# Path modification used to allow Notebook access to src directory\n",
    "import os\n",
    "import sys\n",
    "notebook_path = os.path.abspath('.')\n",
    "project_root = os.path.join(notebook_path, '../../')\n",
    "if project_root not in sys.path:\n",
    "    sys.path.append(project_root)\n",
    "\n",
    "# Preprocessing Module - Load, clean and align data\n",
    "from src.preprocessing.loading import XDrip\n",
    "from src.preprocessing.cleaning import clean_classify_insulin, clean_classify_carbs, clean_glucose\n",
    "from src.preprocessing.alignment import align_diabetes_data\n",
    "\n",
    "# Analysis Module - Check and display data quality\n",
    "from src.analysis.gaps import analyse_glucose_gaps\n",
    "from src.analysis.insulin import analyse_insulin_over_time\n",
    "from src.analysis.metrics import display_quality_metrics\n",
    "\n",
    "# Visualisation Module - Format data for visual appeal in Jupyter\n",
    "from src.visualisation.quality_dashboard import create_quality_dashboard\n",
    "from src.visualisation.meal_statistics_dashboard import create_meal_statistics_dashboard\n",
    "from src.visualisation.gap_dashboard import create_gap_dashboard"
   ]
  },
  {
   "cell_type": "code",
   "execution_count": null,
   "id": "4c464c5f-b53a-4c03-a61e-9b17ee722683",
   "metadata": {},
   "outputs": [],
   "source": []
  }
 ],
 "metadata": {
  "kernelspec": {
   "display_name": "Python 3 (ipykernel)",
   "language": "python",
   "name": "python3"
  },
  "language_info": {
   "codemirror_mode": {
    "name": "ipython",
    "version": 3
   },
   "file_extension": ".py",
   "mimetype": "text/x-python",
   "name": "python",
   "nbconvert_exporter": "python",
   "pygments_lexer": "ipython3",
   "version": "3.10.12"
  }
 },
 "nbformat": 4,
 "nbformat_minor": 5
}
